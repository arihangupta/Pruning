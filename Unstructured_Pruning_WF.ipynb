{
 "cells": [
  {
   "cell_type": "markdown",
   "id": "cdb6b033",
   "metadata": {},
   "source": [
    "This essentially enables you to download the dataset from MedMNIST "
   ]
  },
  {
   "cell_type": "code",
   "execution_count": null,
   "id": "d17432ac",
   "metadata": {},
   "outputs": [],
   "source": [
    "import medmnist\n",
    "from medmnist import DermaMNIST #REPLACE\n",
    "import numpy as np\n",
    "\n",
    "# Choose the image size (28 for classic, or 64/128/224 for MedMNIST+)\n",
    "IMG_SIZE = 28  \n",
    "\n",
    "# Download DermMNIST (train/val/test) automatically\n",
    "train_dataset = DermaMNIST(split=\"train\", download=True, size=IMG_SIZE) #REPLACE\n",
    "val_dataset   = DermaMNIST(split=\"val\", download=True, size=IMG_SIZE) #REPLACE\n",
    "test_dataset  = DermaMNIST(split=\"test\", download=True, size=IMG_SIZE) #REPLACE\n",
    "\n",
    "print(\"Train:\", len(train_dataset))\n",
    "print(\"Val:\", len(val_dataset))\n",
    "print(\"Test:\", len(test_dataset))\n",
    "\n",
    "# Each dataset item is a tuple (PIL.Image, label)\n",
    "img, label = train_dataset[0]\n",
    "\n",
    "# Convert PIL image → NumPy array\n",
    "img_array = np.array(img)\n",
    "\n",
    "print(\"Sample image shape:\", img_array.shape, \"Label:\", label)\n"
   ]
  }
 ],
 "metadata": {
  "language_info": {
   "name": "python"
  }
 },
 "nbformat": 4,
 "nbformat_minor": 5
}
